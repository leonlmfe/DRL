{
 "cells": [
  {
   "cell_type": "code",
   "execution_count": 2,
   "metadata": {},
   "outputs": [],
   "source": [
    "import numpy as np\n",
    "import matplotlib.pyplot as plt\n",
    "import pandas as pd\n",
    "import gc\n",
    "from sklearn.preprocessing import MinMaxScaler\n",
    "from pandas import read_csv"
   ]
  },
  {
   "cell_type": "code",
   "execution_count": 3,
   "metadata": {},
   "outputs": [
    {
     "data": {
      "text/html": [
       "<div>\n",
       "<style scoped>\n",
       "    .dataframe tbody tr th:only-of-type {\n",
       "        vertical-align: middle;\n",
       "    }\n",
       "\n",
       "    .dataframe tbody tr th {\n",
       "        vertical-align: top;\n",
       "    }\n",
       "\n",
       "    .dataframe thead th {\n",
       "        text-align: right;\n",
       "    }\n",
       "</style>\n",
       "<table border=\"1\" class=\"dataframe\">\n",
       "  <thead>\n",
       "    <tr style=\"text-align: right;\">\n",
       "      <th></th>\n",
       "      <th>close</th>\n",
       "      <th>open</th>\n",
       "      <th>high</th>\n",
       "      <th>low</th>\n",
       "      <th>Volume BTC</th>\n",
       "      <th>NewDateTime</th>\n",
       "      <th>returns</th>\n",
       "      <th>log_returns</th>\n",
       "      <th>SOPR</th>\n",
       "      <th>fundingRate</th>\n",
       "      <th>googleTrend</th>\n",
       "    </tr>\n",
       "  </thead>\n",
       "  <tbody>\n",
       "    <tr>\n",
       "      <th>0</th>\n",
       "      <td>8431.82</td>\n",
       "      <td>8145.28</td>\n",
       "      <td>8455.00</td>\n",
       "      <td>8142.00</td>\n",
       "      <td>11041.87000</td>\n",
       "      <td>2020-01-08 00:00:00</td>\n",
       "      <td>1.035179</td>\n",
       "      <td>0.034574</td>\n",
       "      <td>1.011291</td>\n",
       "      <td>0.01</td>\n",
       "      <td>89</td>\n",
       "    </tr>\n",
       "    <tr>\n",
       "      <th>1</th>\n",
       "      <td>8370.92</td>\n",
       "      <td>8431.82</td>\n",
       "      <td>8448.14</td>\n",
       "      <td>8328.89</td>\n",
       "      <td>7355.82000</td>\n",
       "      <td>2020-01-08 01:00:00</td>\n",
       "      <td>0.992777</td>\n",
       "      <td>-0.007249</td>\n",
       "      <td>1.011291</td>\n",
       "      <td>0.01</td>\n",
       "      <td>86</td>\n",
       "    </tr>\n",
       "    <tr>\n",
       "      <th>2</th>\n",
       "      <td>8278.59</td>\n",
       "      <td>8370.92</td>\n",
       "      <td>8422.00</td>\n",
       "      <td>8256.74</td>\n",
       "      <td>4048.91000</td>\n",
       "      <td>2020-01-08 02:00:00</td>\n",
       "      <td>0.988970</td>\n",
       "      <td>-0.011091</td>\n",
       "      <td>1.011291</td>\n",
       "      <td>0.01</td>\n",
       "      <td>75</td>\n",
       "    </tr>\n",
       "    <tr>\n",
       "      <th>3</th>\n",
       "      <td>8300.34</td>\n",
       "      <td>8278.59</td>\n",
       "      <td>8344.00</td>\n",
       "      <td>8244.93</td>\n",
       "      <td>3947.38000</td>\n",
       "      <td>2020-01-08 03:00:00</td>\n",
       "      <td>1.002627</td>\n",
       "      <td>0.002624</td>\n",
       "      <td>1.011291</td>\n",
       "      <td>0.01</td>\n",
       "      <td>68</td>\n",
       "    </tr>\n",
       "    <tr>\n",
       "      <th>4</th>\n",
       "      <td>8344.63</td>\n",
       "      <td>8300.34</td>\n",
       "      <td>8355.87</td>\n",
       "      <td>8288.00</td>\n",
       "      <td>2374.55000</td>\n",
       "      <td>2020-01-08 04:00:00</td>\n",
       "      <td>1.005336</td>\n",
       "      <td>0.005322</td>\n",
       "      <td>1.011291</td>\n",
       "      <td>0.01</td>\n",
       "      <td>68</td>\n",
       "    </tr>\n",
       "    <tr>\n",
       "      <th>...</th>\n",
       "      <td>...</td>\n",
       "      <td>...</td>\n",
       "      <td>...</td>\n",
       "      <td>...</td>\n",
       "      <td>...</td>\n",
       "      <td>...</td>\n",
       "      <td>...</td>\n",
       "      <td>...</td>\n",
       "      <td>...</td>\n",
       "      <td>...</td>\n",
       "      <td>...</td>\n",
       "    </tr>\n",
       "    <tr>\n",
       "      <th>20151</th>\n",
       "      <td>44685.93</td>\n",
       "      <td>45919.93</td>\n",
       "      <td>46118.85</td>\n",
       "      <td>44500.00</td>\n",
       "      <td>7383.66525</td>\n",
       "      <td>2022-01-05 19:00:00</td>\n",
       "      <td>0.973127</td>\n",
       "      <td>-0.027240</td>\n",
       "      <td>0.999064</td>\n",
       "      <td>0.01</td>\n",
       "      <td>49</td>\n",
       "    </tr>\n",
       "    <tr>\n",
       "      <th>20152</th>\n",
       "      <td>43967.01</td>\n",
       "      <td>44685.93</td>\n",
       "      <td>44847.99</td>\n",
       "      <td>43722.54</td>\n",
       "      <td>8054.81116</td>\n",
       "      <td>2022-01-05 20:00:00</td>\n",
       "      <td>0.983912</td>\n",
       "      <td>-0.016219</td>\n",
       "      <td>0.999064</td>\n",
       "      <td>0.01</td>\n",
       "      <td>69</td>\n",
       "    </tr>\n",
       "    <tr>\n",
       "      <th>20153</th>\n",
       "      <td>43606.37</td>\n",
       "      <td>43967.01</td>\n",
       "      <td>44331.42</td>\n",
       "      <td>43422.54</td>\n",
       "      <td>3844.19955</td>\n",
       "      <td>2022-01-05 21:00:00</td>\n",
       "      <td>0.991797</td>\n",
       "      <td>-0.008236</td>\n",
       "      <td>0.999064</td>\n",
       "      <td>0.01</td>\n",
       "      <td>71</td>\n",
       "    </tr>\n",
       "    <tr>\n",
       "      <th>20154</th>\n",
       "      <td>43437.05</td>\n",
       "      <td>43602.49</td>\n",
       "      <td>43815.20</td>\n",
       "      <td>42500.00</td>\n",
       "      <td>6856.64070</td>\n",
       "      <td>2022-01-05 22:00:00</td>\n",
       "      <td>0.996117</td>\n",
       "      <td>-0.003890</td>\n",
       "      <td>0.999064</td>\n",
       "      <td>0.01</td>\n",
       "      <td>81</td>\n",
       "    </tr>\n",
       "    <tr>\n",
       "      <th>20155</th>\n",
       "      <td>43451.13</td>\n",
       "      <td>43437.04</td>\n",
       "      <td>43709.12</td>\n",
       "      <td>43212.00</td>\n",
       "      <td>2869.96497</td>\n",
       "      <td>2022-01-05 23:00:00</td>\n",
       "      <td>1.000324</td>\n",
       "      <td>0.000324</td>\n",
       "      <td>0.999064</td>\n",
       "      <td>0.01</td>\n",
       "      <td>75</td>\n",
       "    </tr>\n",
       "  </tbody>\n",
       "</table>\n",
       "<p>20156 rows × 11 columns</p>\n",
       "</div>"
      ],
      "text/plain": [
       "          close      open      high       low   Volume BTC  \\\n",
       "0       8431.82   8145.28   8455.00   8142.00  11041.87000   \n",
       "1       8370.92   8431.82   8448.14   8328.89   7355.82000   \n",
       "2       8278.59   8370.92   8422.00   8256.74   4048.91000   \n",
       "3       8300.34   8278.59   8344.00   8244.93   3947.38000   \n",
       "4       8344.63   8300.34   8355.87   8288.00   2374.55000   \n",
       "...         ...       ...       ...       ...          ...   \n",
       "20151  44685.93  45919.93  46118.85  44500.00   7383.66525   \n",
       "20152  43967.01  44685.93  44847.99  43722.54   8054.81116   \n",
       "20153  43606.37  43967.01  44331.42  43422.54   3844.19955   \n",
       "20154  43437.05  43602.49  43815.20  42500.00   6856.64070   \n",
       "20155  43451.13  43437.04  43709.12  43212.00   2869.96497   \n",
       "\n",
       "               NewDateTime   returns  log_returns      SOPR  fundingRate  \\\n",
       "0      2020-01-08 00:00:00  1.035179     0.034574  1.011291         0.01   \n",
       "1      2020-01-08 01:00:00  0.992777    -0.007249  1.011291         0.01   \n",
       "2      2020-01-08 02:00:00  0.988970    -0.011091  1.011291         0.01   \n",
       "3      2020-01-08 03:00:00  1.002627     0.002624  1.011291         0.01   \n",
       "4      2020-01-08 04:00:00  1.005336     0.005322  1.011291         0.01   \n",
       "...                    ...       ...          ...       ...          ...   \n",
       "20151  2022-01-05 19:00:00  0.973127    -0.027240  0.999064         0.01   \n",
       "20152  2022-01-05 20:00:00  0.983912    -0.016219  0.999064         0.01   \n",
       "20153  2022-01-05 21:00:00  0.991797    -0.008236  0.999064         0.01   \n",
       "20154  2022-01-05 22:00:00  0.996117    -0.003890  0.999064         0.01   \n",
       "20155  2022-01-05 23:00:00  1.000324     0.000324  0.999064         0.01   \n",
       "\n",
       "       googleTrend  \n",
       "0               89  \n",
       "1               86  \n",
       "2               75  \n",
       "3               68  \n",
       "4               68  \n",
       "...            ...  \n",
       "20151           49  \n",
       "20152           69  \n",
       "20153           71  \n",
       "20154           81  \n",
       "20155           75  \n",
       "\n",
       "[20156 rows x 11 columns]"
      ]
     },
     "execution_count": 3,
     "metadata": {},
     "output_type": "execute_result"
    }
   ],
   "source": [
    "# load the new file\n",
    "df = read_csv('./data/bitcoin_data.csv', date_parser = True)\n",
    "df.drop(df.columns[0], axis=1,inplace = True)\n",
    "df"
   ]
  },
  {
   "cell_type": "code",
   "execution_count": 4,
   "metadata": {},
   "outputs": [
    {
     "data": {
      "text/plain": [
       "7479"
      ]
     },
     "execution_count": 4,
     "metadata": {},
     "output_type": "execute_result"
    }
   ],
   "source": [
    "df = df[df['NewDateTime']>= '2021-03-01'].copy()\n",
    "len(df)"
   ]
  },
  {
   "cell_type": "code",
   "execution_count": 5,
   "metadata": {},
   "outputs": [],
   "source": [
    "df = df.drop_duplicates(subset=['NewDateTime'], keep=\"last\")"
   ]
  },
  {
   "cell_type": "code",
   "execution_count": 6,
   "metadata": {},
   "outputs": [
    {
     "data": {
      "text/plain": [
       "7284"
      ]
     },
     "execution_count": 6,
     "metadata": {},
     "output_type": "execute_result"
    }
   ],
   "source": [
    "data_training = df.iloc[0:int(len(df)-168),:]\n",
    "data_test = df.iloc[int(len(df)-168):int(len(df)),:]\n",
    "\n",
    "len(data_training)"
   ]
  },
  {
   "cell_type": "code",
   "execution_count": 7,
   "metadata": {},
   "outputs": [
    {
     "data": {
      "text/html": [
       "<div>\n",
       "<style scoped>\n",
       "    .dataframe tbody tr th:only-of-type {\n",
       "        vertical-align: middle;\n",
       "    }\n",
       "\n",
       "    .dataframe tbody tr th {\n",
       "        vertical-align: top;\n",
       "    }\n",
       "\n",
       "    .dataframe thead th {\n",
       "        text-align: right;\n",
       "    }\n",
       "</style>\n",
       "<table border=\"1\" class=\"dataframe\">\n",
       "  <thead>\n",
       "    <tr style=\"text-align: right;\">\n",
       "      <th></th>\n",
       "      <th>close</th>\n",
       "      <th>open</th>\n",
       "      <th>high</th>\n",
       "      <th>low</th>\n",
       "      <th>Volume BTC</th>\n",
       "      <th>returns</th>\n",
       "      <th>log_returns</th>\n",
       "      <th>SOPR</th>\n",
       "      <th>fundingRate</th>\n",
       "      <th>googleTrend</th>\n",
       "    </tr>\n",
       "  </thead>\n",
       "  <tbody>\n",
       "    <tr>\n",
       "      <th>12677</th>\n",
       "      <td>46217.19</td>\n",
       "      <td>45134.11</td>\n",
       "      <td>46571.30</td>\n",
       "      <td>44950.53</td>\n",
       "      <td>4899.574833</td>\n",
       "      <td>1.023962</td>\n",
       "      <td>0.023679</td>\n",
       "      <td>1.015226</td>\n",
       "      <td>0.0377</td>\n",
       "      <td>89</td>\n",
       "    </tr>\n",
       "    <tr>\n",
       "      <th>12678</th>\n",
       "      <td>46161.83</td>\n",
       "      <td>46217.18</td>\n",
       "      <td>46492.33</td>\n",
       "      <td>45850.00</td>\n",
       "      <td>2685.386005</td>\n",
       "      <td>0.998802</td>\n",
       "      <td>-0.001199</td>\n",
       "      <td>1.015226</td>\n",
       "      <td>0.0377</td>\n",
       "      <td>82</td>\n",
       "    </tr>\n",
       "    <tr>\n",
       "      <th>12679</th>\n",
       "      <td>46419.56</td>\n",
       "      <td>46166.16</td>\n",
       "      <td>46796.94</td>\n",
       "      <td>46102.84</td>\n",
       "      <td>2926.951099</td>\n",
       "      <td>1.005583</td>\n",
       "      <td>0.005568</td>\n",
       "      <td>1.015226</td>\n",
       "      <td>0.0377</td>\n",
       "      <td>82</td>\n",
       "    </tr>\n",
       "    <tr>\n",
       "      <th>12680</th>\n",
       "      <td>46336.37</td>\n",
       "      <td>46414.70</td>\n",
       "      <td>46540.31</td>\n",
       "      <td>46204.08</td>\n",
       "      <td>1970.348912</td>\n",
       "      <td>0.998208</td>\n",
       "      <td>-0.001794</td>\n",
       "      <td>1.015226</td>\n",
       "      <td>0.0377</td>\n",
       "      <td>80</td>\n",
       "    </tr>\n",
       "    <tr>\n",
       "      <th>12681</th>\n",
       "      <td>46458.33</td>\n",
       "      <td>46336.38</td>\n",
       "      <td>46688.13</td>\n",
       "      <td>45959.70</td>\n",
       "      <td>2152.379904</td>\n",
       "      <td>1.002632</td>\n",
       "      <td>0.002629</td>\n",
       "      <td>1.015226</td>\n",
       "      <td>0.0377</td>\n",
       "      <td>82</td>\n",
       "    </tr>\n",
       "    <tr>\n",
       "      <th>...</th>\n",
       "      <td>...</td>\n",
       "      <td>...</td>\n",
       "      <td>...</td>\n",
       "      <td>...</td>\n",
       "      <td>...</td>\n",
       "      <td>...</td>\n",
       "      <td>...</td>\n",
       "      <td>...</td>\n",
       "      <td>...</td>\n",
       "      <td>...</td>\n",
       "    </tr>\n",
       "    <tr>\n",
       "      <th>19983</th>\n",
       "      <td>47148.61</td>\n",
       "      <td>47531.47</td>\n",
       "      <td>47549.93</td>\n",
       "      <td>47024.27</td>\n",
       "      <td>1502.366200</td>\n",
       "      <td>0.991945</td>\n",
       "      <td>-0.008087</td>\n",
       "      <td>0.997904</td>\n",
       "      <td>0.0100</td>\n",
       "      <td>57</td>\n",
       "    </tr>\n",
       "    <tr>\n",
       "      <th>19984</th>\n",
       "      <td>47369.97</td>\n",
       "      <td>47148.62</td>\n",
       "      <td>47709.20</td>\n",
       "      <td>47079.27</td>\n",
       "      <td>1190.176440</td>\n",
       "      <td>1.004695</td>\n",
       "      <td>0.004684</td>\n",
       "      <td>0.997904</td>\n",
       "      <td>0.0100</td>\n",
       "      <td>61</td>\n",
       "    </tr>\n",
       "    <tr>\n",
       "      <th>19985</th>\n",
       "      <td>47230.00</td>\n",
       "      <td>47369.97</td>\n",
       "      <td>47396.66</td>\n",
       "      <td>47053.88</td>\n",
       "      <td>1207.140710</td>\n",
       "      <td>0.997045</td>\n",
       "      <td>-0.002959</td>\n",
       "      <td>0.997904</td>\n",
       "      <td>0.0100</td>\n",
       "      <td>57</td>\n",
       "    </tr>\n",
       "    <tr>\n",
       "      <th>19986</th>\n",
       "      <td>47274.61</td>\n",
       "      <td>47230.00</td>\n",
       "      <td>47488.38</td>\n",
       "      <td>47100.00</td>\n",
       "      <td>859.776570</td>\n",
       "      <td>1.000945</td>\n",
       "      <td>0.000944</td>\n",
       "      <td>0.997904</td>\n",
       "      <td>0.0100</td>\n",
       "      <td>51</td>\n",
       "    </tr>\n",
       "    <tr>\n",
       "      <th>19987</th>\n",
       "      <td>46464.66</td>\n",
       "      <td>47274.61</td>\n",
       "      <td>47383.92</td>\n",
       "      <td>46096.99</td>\n",
       "      <td>4310.115060</td>\n",
       "      <td>0.982867</td>\n",
       "      <td>-0.017281</td>\n",
       "      <td>0.997904</td>\n",
       "      <td>0.0100</td>\n",
       "      <td>62</td>\n",
       "    </tr>\n",
       "  </tbody>\n",
       "</table>\n",
       "<p>7284 rows × 10 columns</p>\n",
       "</div>"
      ],
      "text/plain": [
       "          close      open      high       low   Volume BTC   returns  \\\n",
       "12677  46217.19  45134.11  46571.30  44950.53  4899.574833  1.023962   \n",
       "12678  46161.83  46217.18  46492.33  45850.00  2685.386005  0.998802   \n",
       "12679  46419.56  46166.16  46796.94  46102.84  2926.951099  1.005583   \n",
       "12680  46336.37  46414.70  46540.31  46204.08  1970.348912  0.998208   \n",
       "12681  46458.33  46336.38  46688.13  45959.70  2152.379904  1.002632   \n",
       "...         ...       ...       ...       ...          ...       ...   \n",
       "19983  47148.61  47531.47  47549.93  47024.27  1502.366200  0.991945   \n",
       "19984  47369.97  47148.62  47709.20  47079.27  1190.176440  1.004695   \n",
       "19985  47230.00  47369.97  47396.66  47053.88  1207.140710  0.997045   \n",
       "19986  47274.61  47230.00  47488.38  47100.00   859.776570  1.000945   \n",
       "19987  46464.66  47274.61  47383.92  46096.99  4310.115060  0.982867   \n",
       "\n",
       "       log_returns      SOPR  fundingRate  googleTrend  \n",
       "12677     0.023679  1.015226       0.0377           89  \n",
       "12678    -0.001199  1.015226       0.0377           82  \n",
       "12679     0.005568  1.015226       0.0377           82  \n",
       "12680    -0.001794  1.015226       0.0377           80  \n",
       "12681     0.002629  1.015226       0.0377           82  \n",
       "...            ...       ...          ...          ...  \n",
       "19983    -0.008087  0.997904       0.0100           57  \n",
       "19984     0.004684  0.997904       0.0100           61  \n",
       "19985    -0.002959  0.997904       0.0100           57  \n",
       "19986     0.000944  0.997904       0.0100           51  \n",
       "19987    -0.017281  0.997904       0.0100           62  \n",
       "\n",
       "[7284 rows x 10 columns]"
      ]
     },
     "execution_count": 7,
     "metadata": {},
     "output_type": "execute_result"
    }
   ],
   "source": [
    "training_data = data_training.drop(['NewDateTime'], axis = 1)\n",
    "\n",
    "\n",
    "training_data"
   ]
  },
  {
   "cell_type": "code",
   "execution_count": 8,
   "metadata": {},
   "outputs": [],
   "source": [
    "scaler = MinMaxScaler()\n",
    "training_data = scaler.fit_transform(training_data)"
   ]
  },
  {
   "cell_type": "code",
   "execution_count": 9,
   "metadata": {},
   "outputs": [],
   "source": [
    "X_train = []\n",
    "Y_train = []"
   ]
  },
  {
   "cell_type": "code",
   "execution_count": 10,
   "metadata": {},
   "outputs": [
    {
     "data": {
      "text/plain": [
       "(7284, 10)"
      ]
     },
     "execution_count": 10,
     "metadata": {},
     "output_type": "execute_result"
    }
   ],
   "source": [
    "training_data.shape"
   ]
  },
  {
   "cell_type": "code",
   "execution_count": 11,
   "metadata": {},
   "outputs": [],
   "source": [
    "for i in range(336, training_data.shape[0],8):\n",
    "    \n",
    "    X_train.append(training_data[i-336:i-168])\n",
    "    Y_train.append(training_data[i-168:i,0])"
   ]
  },
  {
   "cell_type": "code",
   "execution_count": 12,
   "metadata": {},
   "outputs": [],
   "source": [
    "X_train, Y_train = np.array(X_train), np.array(Y_train)"
   ]
  },
  {
   "cell_type": "code",
   "execution_count": 13,
   "metadata": {},
   "outputs": [],
   "source": [
    "# def shuffle(X,Y):\n",
    "#     np.random.seed(10)\n",
    "#     randomList = np.arange(X.shape[0])\n",
    "#     np.random.shuffle(randomList)\n",
    "#     return X[randomList], Y[randomList]"
   ]
  },
  {
   "cell_type": "code",
   "execution_count": 14,
   "metadata": {},
   "outputs": [],
   "source": [
    "# X_train, Y_train = shuffle(X_train,Y_train)"
   ]
  },
  {
   "cell_type": "code",
   "execution_count": 15,
   "metadata": {},
   "outputs": [],
   "source": [
    "Y_train=Y_train.reshape(Y_train.shape[0],168,1)"
   ]
  },
  {
   "cell_type": "code",
   "execution_count": 65,
   "metadata": {},
   "outputs": [],
   "source": [
    "from tensorflow.keras import Sequential\n",
    "from tensorflow.keras.layers import Dense, LSTM, Dropout,RepeatVector,TimeDistributed"
   ]
  },
  {
   "cell_type": "code",
   "execution_count": 66,
   "metadata": {},
   "outputs": [],
   "source": [
    "import tensorflow as tf\n",
    "model = tf.keras.models.load_model('168_168_V4.h5')"
   ]
  },
  {
   "cell_type": "code",
   "execution_count": 16,
   "metadata": {},
   "outputs": [
    {
     "name": "stdout",
     "output_type": "stream",
     "text": [
      "2022-01-05 23:00:00\n"
     ]
    }
   ],
   "source": [
    "past_weeks = data_training.tail(168)\n",
    "df= past_weeks.append(data_test, ignore_index = True)\n",
    "# test.drop(test.tail(len(test)%168).index,inplace=True)\n",
    "# test = test.drop(['NewDateTime'], axis=1)\n",
    "fromTime = df.at[335,'NewDateTime']\n",
    "print(str(fromTime))"
   ]
  },
  {
   "cell_type": "code",
   "execution_count": 17,
   "metadata": {},
   "outputs": [],
   "source": [
    "df = df.drop(['NewDateTime'], axis = 1)"
   ]
  },
  {
   "cell_type": "code",
   "execution_count": 18,
   "metadata": {},
   "outputs": [
    {
     "data": {
      "text/plain": [
       "(336, 10)"
      ]
     },
     "execution_count": 18,
     "metadata": {},
     "output_type": "execute_result"
    }
   ],
   "source": [
    "inputs = scaler.transform(df)\n",
    "inputs.shape"
   ]
  },
  {
   "cell_type": "code",
   "execution_count": 37,
   "metadata": {},
   "outputs": [
    {
     "data": {
      "text/plain": [
       "(336, 1)"
      ]
     },
     "execution_count": 37,
     "metadata": {},
     "output_type": "execute_result"
    }
   ],
   "source": [
    "df2 =df['close'].copy()\n",
    "pScaler = MinMaxScaler()\n",
    "pData = pScaler.fit_transform(df2.values.reshape(-1, 1))\n",
    "pData.shape"
   ]
  },
  {
   "cell_type": "code",
   "execution_count": 38,
   "metadata": {},
   "outputs": [],
   "source": [
    "X_test = []\n",
    "Y_test = []\n",
    "P_test = []\n",
    "for i in range(336, inputs.shape[0]+1,24):\n",
    "    X_test.append(inputs[i-336:i-168])\n",
    "    Y_test.append(inputs[i-168:i,0])\n",
    "    P_test.append(inputs[i-168:i])"
   ]
  },
  {
   "cell_type": "code",
   "execution_count": 39,
   "metadata": {},
   "outputs": [
    {
     "data": {
      "text/plain": [
       "((1, 168, 10), (1, 168), (1, 168, 10))"
      ]
     },
     "execution_count": 39,
     "metadata": {},
     "output_type": "execute_result"
    }
   ],
   "source": [
    "X_test, Y_test , P_test= np.array(X_test), np.array(Y_test), np.array(P_test)\n",
    "X_test.shape, Y_test.shape , P_test.shape"
   ]
  },
  {
   "cell_type": "code",
   "execution_count": 40,
   "metadata": {},
   "outputs": [
    {
     "data": {
      "text/plain": [
       "0.36076274219628524"
      ]
     },
     "execution_count": 40,
     "metadata": {},
     "output_type": "execute_result"
    }
   ],
   "source": [
    "P_test[0,167,0]"
   ]
  },
  {
   "cell_type": "code",
   "execution_count": 41,
   "metadata": {},
   "outputs": [
    {
     "data": {
      "text/plain": [
       "0.36076274219628524"
      ]
     },
     "execution_count": 41,
     "metadata": {},
     "output_type": "execute_result"
    }
   ],
   "source": [
    "Y_test[0,167]"
   ]
  },
  {
   "cell_type": "code",
   "execution_count": 42,
   "metadata": {},
   "outputs": [],
   "source": [
    "Y_test=pScaler.inverse_transform(Y_test.reshape(168,1))"
   ]
  },
  {
   "cell_type": "code",
   "execution_count": 43,
   "metadata": {},
   "outputs": [],
   "source": [
    "Y_pred = model.predict(X_test)\n",
    "Y_pred=pScaler.inverse_transform(Y_pred.reshape(168,1))\n"
   ]
  },
  {
   "cell_type": "code",
   "execution_count": 44,
   "metadata": {},
   "outputs": [
    {
     "name": "stdout",
     "output_type": "stream",
     "text": [
      "[46397.285]\n",
      "[48782.184]\n"
     ]
    },
    {
     "data": {
      "text/plain": [
       "(None, None)"
      ]
     },
     "execution_count": 44,
     "metadata": {},
     "output_type": "execute_result"
    }
   ],
   "source": [
    "ans = sorted(Y_pred)\n",
    "print(ans[0]),print(ans[167])"
   ]
  },
  {
   "cell_type": "code",
   "execution_count": 45,
   "metadata": {},
   "outputs": [
    {
     "data": {
      "image/png": "[encoded data removed]",
      "text/plain": [
       "<Figure size 1008x360 with 1 Axes>"
      ]
     },
     "metadata": {
      "needs_background": "light"
     },
     "output_type": "display_data"
    }
   ],
   "source": [
    "plt.figure(figsize=(14,5))\n",
    "plt.plot(Y_test[:,0], color = 'red', label = 'Real Bitcoin Price')\n",
    "plt.plot(Y_pred[:,0], color = 'green', label = 'Predicted Bitcoin Price')\n",
    "plt.title('Bitcoin Price Prediction using RNN-LSTM')\n",
    "plt.xlabel('Time')\n",
    "plt.ylabel('Price')\n",
    "plt.legend()\n",
    "plt.show()"
   ]
  },
  {
   "cell_type": "code",
   "execution_count": 46,
   "metadata": {},
   "outputs": [
    {
     "name": "stdout",
     "output_type": "stream",
     "text": [
      "[46635.12]\n",
      "[48628.54]\n"
     ]
    },
    {
     "data": {
      "text/plain": [
       "(None, None)"
      ]
     },
     "execution_count": 46,
     "metadata": {},
     "output_type": "execute_result"
    }
   ],
   "source": [
    "ansPre = model.predict(P_test)\n",
    "ansPre = pScaler.inverse_transform(ansPre.reshape(168,1))\n",
    "ans = sorted(ansPre)\n",
    "print(ans[0]),print(ans[167])"
   ]
  },
  {
   "cell_type": "code",
   "execution_count": 47,
   "metadata": {},
   "outputs": [
    {
     "data": {
      "text/plain": [
       "(168, 1)"
      ]
     },
     "execution_count": 47,
     "metadata": {},
     "output_type": "execute_result"
    }
   ],
   "source": [
    "ansPre.shape"
   ]
  },
  {
   "cell_type": "code",
   "execution_count": 48,
   "metadata": {},
   "outputs": [
    {
     "data": {
      "image/png": "[encoded data removed]",
      "text/plain": [
       "<Figure size 1008x360 with 1 Axes>"
      ]
     },
     "metadata": {
      "needs_background": "light"
     },
     "output_type": "display_data"
    }
   ],
   "source": [
    "plt.figure(figsize=(14,5))\n",
    "plt.plot(ansPre[:,0],  color = 'green', label = 'Predicted Bitcoin Price')\n",
    "plt.title('Bitcoin Price Prediction using RNN-LSTM')\n",
    "plt.xlabel('Time')\n",
    "plt.ylabel('Price')\n",
    "plt.legend()\n",
    "plt.show()"
   ]
  },
  {
   "cell_type": "code",
   "execution_count": 49,
   "metadata": {},
   "outputs": [
    {
     "name": "stdout",
     "output_type": "stream",
     "text": [
      "2022-01-05 23:00:00\n",
      "[46635.12]\n",
      "[48628.54]\n"
     ]
    },
    {
     "data": {
      "text/plain": [
       "(None, None, None)"
      ]
     },
     "execution_count": 49,
     "metadata": {},
     "output_type": "execute_result"
    }
   ],
   "source": [
    "print(str(fromTime)),print(ans[0]),print(ans[167])"
   ]
  },
  {
   "cell_type": "code",
   "execution_count": null,
   "metadata": {},
   "outputs": [],
   "source": []
  }
 ],
 "metadata": {
  "kernelspec": {
   "display_name": "Python 3",
   "language": "python",
   "name": "python3"
  },
  "language_info": {
   "codemirror_mode": {
    "name": "ipython",
    "version": 3
   },
   "file_extension": ".py",
   "mimetype": "text/x-python",
   "name": "python",
   "nbconvert_exporter": "python",
   "pygments_lexer": "ipython3",
   "version": "3.6.9"
  }
 },
 "nbformat": 4,
 "nbformat_minor": 4
}
