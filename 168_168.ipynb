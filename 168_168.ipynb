{
 "cells": [
  {
   "cell_type": "code",
   "execution_count": 1,
   "metadata": {},
   "outputs": [],
   "source": [
    "import numpy as np\n",
    "import matplotlib.pyplot as plt\n",
    "import pandas as pd\n",
    "import gc\n",
    "from sklearn.preprocessing import MinMaxScaler\n",
    "from pandas import read_csv"
   ]
  },
  {
   "cell_type": "code",
   "execution_count": 2,
   "metadata": {},
   "outputs": [
    {
     "data": {
      "text/plain": [
       "20156"
      ]
     },
     "execution_count": 2,
     "metadata": {},
     "output_type": "execute_result"
    }
   ],
   "source": [
    "# load the new file\n",
    "df = read_csv('./data/bitcoin_data.csv', date_parser = True)\n",
    "df.drop(df.columns[0], axis=1,inplace = True)\n",
    "len(df)"
   ]
  },
  {
   "cell_type": "code",
   "execution_count": 15,
   "metadata": {},
   "outputs": [
    {
     "data": {
      "text/plain": [
       "7479"
      ]
     },
     "execution_count": 15,
     "metadata": {},
     "output_type": "execute_result"
    }
   ],
   "source": [
    "df = df[df['NewDateTime']>= '2021-03-01'].copy()\n",
    "len(df)"
   ]
  },
  {
   "cell_type": "code",
   "execution_count": 16,
   "metadata": {},
   "outputs": [
    {
     "data": {
      "text/plain": [
       "7479"
      ]
     },
     "execution_count": 16,
     "metadata": {},
     "output_type": "execute_result"
    }
   ],
   "source": [
    "# df.drop(df.head(len(df)%2).index,inplace=True)\n",
    "len(df)"
   ]
  },
  {
   "cell_type": "code",
   "execution_count": 17,
   "metadata": {},
   "outputs": [
    {
     "data": {
      "text/plain": [
       "6544"
      ]
     },
     "execution_count": 17,
     "metadata": {},
     "output_type": "execute_result"
    }
   ],
   "source": [
    "int(len(df)/8*7)"
   ]
  },
  {
   "cell_type": "code",
   "execution_count": 18,
   "metadata": {},
   "outputs": [
    {
     "data": {
      "text/plain": [
       "7311"
      ]
     },
     "execution_count": 18,
     "metadata": {},
     "output_type": "execute_result"
    }
   ],
   "source": [
    "data_training = df.iloc[0:int(len(df)-168),:]\n",
    "data_test = df.iloc[int(len(df)-168):int(len(df)),:]\n",
    "\n",
    "len(data_training)"
   ]
  },
  {
   "cell_type": "code",
   "execution_count": 19,
   "metadata": {},
   "outputs": [
    {
     "data": {
      "text/html": [
       "<div>\n",
       "<style scoped>\n",
       "    .dataframe tbody tr th:only-of-type {\n",
       "        vertical-align: middle;\n",
       "    }\n",
       "\n",
       "    .dataframe tbody tr th {\n",
       "        vertical-align: top;\n",
       "    }\n",
       "\n",
       "    .dataframe thead th {\n",
       "        text-align: right;\n",
       "    }\n",
       "</style>\n",
       "<table border=\"1\" class=\"dataframe\">\n",
       "  <thead>\n",
       "    <tr style=\"text-align: right;\">\n",
       "      <th></th>\n",
       "      <th>close</th>\n",
       "      <th>open</th>\n",
       "      <th>high</th>\n",
       "      <th>low</th>\n",
       "      <th>Volume BTC</th>\n",
       "      <th>returns</th>\n",
       "      <th>log_returns</th>\n",
       "      <th>SOPR</th>\n",
       "      <th>fundingRate</th>\n",
       "      <th>googleTrend</th>\n",
       "    </tr>\n",
       "  </thead>\n",
       "  <tbody>\n",
       "    <tr>\n",
       "      <th>12677</th>\n",
       "      <td>46217.19</td>\n",
       "      <td>45134.11</td>\n",
       "      <td>46571.30</td>\n",
       "      <td>44950.53</td>\n",
       "      <td>4899.574833</td>\n",
       "      <td>1.023962</td>\n",
       "      <td>0.023679</td>\n",
       "      <td>1.015226</td>\n",
       "      <td>0.0377</td>\n",
       "      <td>89</td>\n",
       "    </tr>\n",
       "    <tr>\n",
       "      <th>12678</th>\n",
       "      <td>46161.83</td>\n",
       "      <td>46217.18</td>\n",
       "      <td>46492.33</td>\n",
       "      <td>45850.00</td>\n",
       "      <td>2685.386005</td>\n",
       "      <td>0.998802</td>\n",
       "      <td>-0.001199</td>\n",
       "      <td>1.015226</td>\n",
       "      <td>0.0377</td>\n",
       "      <td>82</td>\n",
       "    </tr>\n",
       "    <tr>\n",
       "      <th>12679</th>\n",
       "      <td>46419.56</td>\n",
       "      <td>46166.16</td>\n",
       "      <td>46796.94</td>\n",
       "      <td>46102.84</td>\n",
       "      <td>2926.951099</td>\n",
       "      <td>1.005583</td>\n",
       "      <td>0.005568</td>\n",
       "      <td>1.015226</td>\n",
       "      <td>0.0377</td>\n",
       "      <td>82</td>\n",
       "    </tr>\n",
       "    <tr>\n",
       "      <th>12680</th>\n",
       "      <td>46336.37</td>\n",
       "      <td>46414.70</td>\n",
       "      <td>46540.31</td>\n",
       "      <td>46204.08</td>\n",
       "      <td>1970.348912</td>\n",
       "      <td>0.998208</td>\n",
       "      <td>-0.001794</td>\n",
       "      <td>1.015226</td>\n",
       "      <td>0.0377</td>\n",
       "      <td>80</td>\n",
       "    </tr>\n",
       "    <tr>\n",
       "      <th>12681</th>\n",
       "      <td>46458.33</td>\n",
       "      <td>46336.38</td>\n",
       "      <td>46688.13</td>\n",
       "      <td>45959.70</td>\n",
       "      <td>2152.379904</td>\n",
       "      <td>1.002632</td>\n",
       "      <td>0.002629</td>\n",
       "      <td>1.015226</td>\n",
       "      <td>0.0377</td>\n",
       "      <td>82</td>\n",
       "    </tr>\n",
       "    <tr>\n",
       "      <th>...</th>\n",
       "      <td>...</td>\n",
       "      <td>...</td>\n",
       "      <td>...</td>\n",
       "      <td>...</td>\n",
       "      <td>...</td>\n",
       "      <td>...</td>\n",
       "      <td>...</td>\n",
       "      <td>...</td>\n",
       "      <td>...</td>\n",
       "      <td>...</td>\n",
       "    </tr>\n",
       "    <tr>\n",
       "      <th>19983</th>\n",
       "      <td>47148.61</td>\n",
       "      <td>47531.47</td>\n",
       "      <td>47549.93</td>\n",
       "      <td>47024.27</td>\n",
       "      <td>1502.366200</td>\n",
       "      <td>0.991945</td>\n",
       "      <td>-0.008087</td>\n",
       "      <td>0.997904</td>\n",
       "      <td>0.0100</td>\n",
       "      <td>57</td>\n",
       "    </tr>\n",
       "    <tr>\n",
       "      <th>19984</th>\n",
       "      <td>47369.97</td>\n",
       "      <td>47148.62</td>\n",
       "      <td>47709.20</td>\n",
       "      <td>47079.27</td>\n",
       "      <td>1190.176440</td>\n",
       "      <td>1.004695</td>\n",
       "      <td>0.004684</td>\n",
       "      <td>0.997904</td>\n",
       "      <td>0.0100</td>\n",
       "      <td>61</td>\n",
       "    </tr>\n",
       "    <tr>\n",
       "      <th>19985</th>\n",
       "      <td>47230.00</td>\n",
       "      <td>47369.97</td>\n",
       "      <td>47396.66</td>\n",
       "      <td>47053.88</td>\n",
       "      <td>1207.140710</td>\n",
       "      <td>0.997045</td>\n",
       "      <td>-0.002959</td>\n",
       "      <td>0.997904</td>\n",
       "      <td>0.0100</td>\n",
       "      <td>57</td>\n",
       "    </tr>\n",
       "    <tr>\n",
       "      <th>19986</th>\n",
       "      <td>47274.61</td>\n",
       "      <td>47230.00</td>\n",
       "      <td>47488.38</td>\n",
       "      <td>47100.00</td>\n",
       "      <td>859.776570</td>\n",
       "      <td>1.000945</td>\n",
       "      <td>0.000944</td>\n",
       "      <td>0.997904</td>\n",
       "      <td>0.0100</td>\n",
       "      <td>51</td>\n",
       "    </tr>\n",
       "    <tr>\n",
       "      <th>19987</th>\n",
       "      <td>46464.66</td>\n",
       "      <td>47274.61</td>\n",
       "      <td>47383.92</td>\n",
       "      <td>46096.99</td>\n",
       "      <td>4310.115060</td>\n",
       "      <td>0.982867</td>\n",
       "      <td>-0.017281</td>\n",
       "      <td>0.997904</td>\n",
       "      <td>0.0100</td>\n",
       "      <td>62</td>\n",
       "    </tr>\n",
       "  </tbody>\n",
       "</table>\n",
       "<p>7311 rows × 10 columns</p>\n",
       "</div>"
      ],
      "text/plain": [
       "          close      open      high       low   Volume BTC   returns  \\\n",
       "12677  46217.19  45134.11  46571.30  44950.53  4899.574833  1.023962   \n",
       "12678  46161.83  46217.18  46492.33  45850.00  2685.386005  0.998802   \n",
       "12679  46419.56  46166.16  46796.94  46102.84  2926.951099  1.005583   \n",
       "12680  46336.37  46414.70  46540.31  46204.08  1970.348912  0.998208   \n",
       "12681  46458.33  46336.38  46688.13  45959.70  2152.379904  1.002632   \n",
       "...         ...       ...       ...       ...          ...       ...   \n",
       "19983  47148.61  47531.47  47549.93  47024.27  1502.366200  0.991945   \n",
       "19984  47369.97  47148.62  47709.20  47079.27  1190.176440  1.004695   \n",
       "19985  47230.00  47369.97  47396.66  47053.88  1207.140710  0.997045   \n",
       "19986  47274.61  47230.00  47488.38  47100.00   859.776570  1.000945   \n",
       "19987  46464.66  47274.61  47383.92  46096.99  4310.115060  0.982867   \n",
       "\n",
       "       log_returns      SOPR  fundingRate  googleTrend  \n",
       "12677     0.023679  1.015226       0.0377           89  \n",
       "12678    -0.001199  1.015226       0.0377           82  \n",
       "12679     0.005568  1.015226       0.0377           82  \n",
       "12680    -0.001794  1.015226       0.0377           80  \n",
       "12681     0.002629  1.015226       0.0377           82  \n",
       "...            ...       ...          ...          ...  \n",
       "19983    -0.008087  0.997904       0.0100           57  \n",
       "19984     0.004684  0.997904       0.0100           61  \n",
       "19985    -0.002959  0.997904       0.0100           57  \n",
       "19986     0.000944  0.997904       0.0100           51  \n",
       "19987    -0.017281  0.997904       0.0100           62  \n",
       "\n",
       "[7311 rows x 10 columns]"
      ]
     },
     "execution_count": 19,
     "metadata": {},
     "output_type": "execute_result"
    }
   ],
   "source": [
    "training_data = data_training.drop(['NewDateTime'], axis = 1)\n",
    "\n",
    "\n",
    "training_data"
   ]
  },
  {
   "cell_type": "code",
   "execution_count": 20,
   "metadata": {},
   "outputs": [
    {
     "data": {
      "text/plain": [
       "array([[0.43097676, 0.40346892, 0.42919596, ..., 0.64633522, 0.53462023,\n",
       "        0.87058824],\n",
       "       [0.42957149, 0.43096071, 0.4271862 , ..., 0.64633522, 0.53462023,\n",
       "        0.78823529],\n",
       "       [0.43611374, 0.42966566, 0.43493844, ..., 0.64633522, 0.53462023,\n",
       "        0.78823529],\n",
       "       ...,\n",
       "       [0.45668605, 0.46022222, 0.45020114, ..., 0.45026713, 0.41838019,\n",
       "        0.49411765],\n",
       "       [0.45781844, 0.45666934, 0.45253539, ..., 0.45026713, 0.41838019,\n",
       "        0.42352941],\n",
       "       [0.43725857, 0.45780168, 0.44987691, ..., 0.45026713, 0.41838019,\n",
       "        0.55294118]])"
      ]
     },
     "execution_count": 20,
     "metadata": {},
     "output_type": "execute_result"
    }
   ],
   "source": [
    "scaler = MinMaxScaler()\n",
    "training_data = scaler.fit_transform(training_data)\n",
    "training_data"
   ]
  },
  {
   "cell_type": "code",
   "execution_count": 21,
   "metadata": {},
   "outputs": [
    {
     "data": {
      "text/plain": [
       "array([[4.62171900e+04, 4.51341100e+04, 4.65713000e+04, ...,\n",
       "        1.01522642e+00, 3.77000000e-02, 8.90000000e+01],\n",
       "       [4.61618300e+04, 4.62171800e+04, 4.64923300e+04, ...,\n",
       "        1.01522642e+00, 3.77000000e-02, 8.20000000e+01],\n",
       "       [4.64195600e+04, 4.61661600e+04, 4.67969400e+04, ...,\n",
       "        1.01522642e+00, 3.77000000e-02, 8.20000000e+01],\n",
       "       ...,\n",
       "       [4.72300000e+04, 4.73699700e+04, 4.73966600e+04, ...,\n",
       "        9.97903810e-01, 1.00000000e-02, 5.70000000e+01],\n",
       "       [4.72746100e+04, 4.72300000e+04, 4.74883800e+04, ...,\n",
       "        9.97903810e-01, 1.00000000e-02, 5.10000000e+01],\n",
       "       [4.64646600e+04, 4.72746100e+04, 4.73839200e+04, ...,\n",
       "        9.97903810e-01, 1.00000000e-02, 6.20000000e+01]])"
      ]
     },
     "execution_count": 21,
     "metadata": {},
     "output_type": "execute_result"
    }
   ],
   "source": [
    "scaler.inverse_transform(training_data)"
   ]
  },
  {
   "cell_type": "code",
   "execution_count": 22,
   "metadata": {},
   "outputs": [],
   "source": [
    "X_train = []\n",
    "Y_train = []"
   ]
  },
  {
   "cell_type": "code",
   "execution_count": 23,
   "metadata": {},
   "outputs": [
    {
     "data": {
      "text/plain": [
       "(7311, 10)"
      ]
     },
     "execution_count": 23,
     "metadata": {},
     "output_type": "execute_result"
    }
   ],
   "source": [
    "training_data.shape"
   ]
  },
  {
   "cell_type": "code",
   "execution_count": 24,
   "metadata": {},
   "outputs": [],
   "source": [
    "for i in range(336, training_data.shape[0],8):\n",
    "    \n",
    "    X_train.append(training_data[i-336:i-168])\n",
    "    Y_train.append(training_data[i-168:i,0])"
   ]
  },
  {
   "cell_type": "code",
   "execution_count": 25,
   "metadata": {
    "jupyter": {
     "source_hidden": true
    }
   },
   "outputs": [],
   "source": [
    "X_train, Y_train = np.array(X_train), np.array(Y_train)"
   ]
  },
  {
   "cell_type": "code",
   "execution_count": 27,
   "metadata": {},
   "outputs": [],
   "source": [
    "def shuffle(X,Y):\n",
    "    np.random.seed(10)\n",
    "    randomList = np.arange(X.shape[0])\n",
    "    np.random.shuffle(randomList)\n",
    "    return X[randomList], Y[randomList]"
   ]
  },
  {
   "cell_type": "code",
   "execution_count": 28,
   "metadata": {},
   "outputs": [],
   "source": [
    "X_train, Y_train = shuffle(X_train,Y_train)"
   ]
  },
  {
   "cell_type": "code",
   "execution_count": 29,
   "metadata": {},
   "outputs": [
    {
     "data": {
      "text/plain": [
       "(872, 168, 10)"
      ]
     },
     "execution_count": 29,
     "metadata": {},
     "output_type": "execute_result"
    }
   ],
   "source": [
    "X_train.shape"
   ]
  },
  {
   "cell_type": "code",
   "execution_count": 30,
   "metadata": {},
   "outputs": [
    {
     "data": {
      "text/plain": [
       "(872, 168)"
      ]
     },
     "execution_count": 30,
     "metadata": {},
     "output_type": "execute_result"
    }
   ],
   "source": [
    "Y_train.shape"
   ]
  },
  {
   "cell_type": "code",
   "execution_count": 32,
   "metadata": {},
   "outputs": [],
   "source": [
    "Y_train=Y_train.reshape(Y_train.shape[0],168,1)"
   ]
  },
  {
   "cell_type": "code",
   "execution_count": 34,
   "metadata": {},
   "outputs": [
    {
     "name": "stdout",
     "output_type": "stream",
     "text": [
      "WARNING:tensorflow:Deprecation warnings have been disabled. Set TF_ENABLE_DEPRECATION_WARNINGS=1 to re-enable them.\n"
     ]
    }
   ],
   "source": [
    "\n",
    "from tensorflow.keras import Sequential\n",
    "from tensorflow.keras.layers import Dense, LSTM, Dropout,RepeatVector,TimeDistributed"
   ]
  },
  {
   "cell_type": "code",
   "execution_count": 35,
   "metadata": {},
   "outputs": [],
   "source": [
    "\n",
    "model = Sequential()\n",
    "model.add(LSTM(units = 50, activation = 'relu', return_sequences = True, input_shape = (X_train.shape[1], 10)))\n",
    "model.add(Dropout(0.1))\n",
    "model.add(LSTM(units = 60, activation = 'relu', return_sequences = True))\n",
    "model.add(Dropout(0.15))\n",
    "\n",
    "model.add(LSTM(units = 80, activation = 'relu', return_sequences = True))\n",
    "model.add(Dropout(0.2))\n",
    "\n",
    "model.add(LSTM(units = 120, activation = 'relu' ,return_sequences = True))\n",
    "model.add(Dropout(0.25))\n",
    "\n",
    "model.add(TimeDistributed(Dense(1)))"
   ]
  },
  {
   "cell_type": "code",
   "execution_count": 36,
   "metadata": {},
   "outputs": [
    {
     "name": "stdout",
     "output_type": "stream",
     "text": [
      "Model: \"sequential\"\n",
      "_________________________________________________________________\n",
      "Layer (type)                 Output Shape              Param #   \n",
      "=================================================================\n",
      "lstm (LSTM)                  (None, 168, 50)           12200     \n",
      "_________________________________________________________________\n",
      "dropout (Dropout)            (None, 168, 50)           0         \n",
      "_________________________________________________________________\n",
      "lstm_1 (LSTM)                (None, 168, 60)           26640     \n",
      "_________________________________________________________________\n",
      "dropout_1 (Dropout)          (None, 168, 60)           0         \n",
      "_________________________________________________________________\n",
      "lstm_2 (LSTM)                (None, 168, 80)           45120     \n",
      "_________________________________________________________________\n",
      "dropout_2 (Dropout)          (None, 168, 80)           0         \n",
      "_________________________________________________________________\n",
      "lstm_3 (LSTM)                (None, 168, 120)          96480     \n",
      "_________________________________________________________________\n",
      "dropout_3 (Dropout)          (None, 168, 120)          0         \n",
      "_________________________________________________________________\n",
      "time_distributed (TimeDistri (None, 168, 1)            121       \n",
      "=================================================================\n",
      "Total params: 180,561\n",
      "Trainable params: 180,561\n",
      "Non-trainable params: 0\n",
      "_________________________________________________________________\n"
     ]
    }
   ],
   "source": [
    "model.summary()"
   ]
  },
  {
   "cell_type": "code",
   "execution_count": 37,
   "metadata": {},
   "outputs": [],
   "source": [
    "model.compile(loss='mse', optimizer='adam')"
   ]
  },
  {
   "cell_type": "code",
   "execution_count": null,
   "metadata": {},
   "outputs": [
    {
     "name": "stdout",
     "output_type": "stream",
     "text": [
      "Train on 784 samples, validate on 88 samples\n",
      "Epoch 1/30\n"
     ]
    }
   ],
   "source": [
    "history = model.fit(X_train, Y_train, epochs=30, batch_size=32, verbose=1, validation_split=0.1)"
   ]
  },
  {
   "cell_type": "code",
   "execution_count": null,
   "metadata": {},
   "outputs": [
    {
     "name": "stdout",
     "output_type": "stream",
     "text": [
      "WARNING:tensorflow:Deprecation warnings have been disabled. Set TF_ENABLE_DEPRECATION_WARNINGS=1 to re-enable them.\n"
     ]
    }
   ],
   "source": [
    "import tensorflow as tf\n",
    "model = tf.keras.models.load_model('168_168_V5.h5')"
   ]
  },
  {
   "cell_type": "code",
   "execution_count": 186,
   "metadata": {},
   "outputs": [],
   "source": [
    "# model.save(\"168_168_v4.h5\")"
   ]
  },
  {
   "cell_type": "code",
   "execution_count": 187,
   "metadata": {},
   "outputs": [],
   "source": [
    "# result = model.predict(X_train, batch_size=128, verbose=0)\n",
    "# for value in result[0,:,0]:\n",
    "# \tprint('%.1f' % value)"
   ]
  },
  {
   "cell_type": "code",
   "execution_count": 188,
   "metadata": {},
   "outputs": [
    {
     "data": {
      "image/png": "[encoded data removed]",
      "text/plain": [
       "<Figure size 432x288 with 1 Axes>"
      ]
     },
     "metadata": {
      "needs_background": "light"
     },
     "output_type": "display_data"
    }
   ],
   "source": [
    "loss = history.history['loss']\n",
    "epoch = range(len(loss))\n",
    "# plt.figure(figsize=(8,8))\n",
    "plt.plot(history.history['loss'])\n",
    "plt.plot(history.history['val_loss'])\n",
    "plt.title('model train vs validation loss')\n",
    "plt.ylabel('loss')\n",
    "plt.xlabel('epoch')\n",
    "plt.legend(['train', 'validation'], loc='upper right')\n",
    "plt.show()"
   ]
  },
  {
   "cell_type": "code",
   "execution_count": 189,
   "metadata": {},
   "outputs": [
    {
     "data": {
      "text/plain": [
       "{'loss': [0.11285367314866933,\n",
       "  0.032400449848359804,\n",
       "  0.02512580931759025,\n",
       "  0.01985654705317033,\n",
       "  0.017446591551453276,\n",
       "  0.016949560995291508,\n",
       "  0.015389251743626563,\n",
       "  0.014161248904755817,\n",
       "  0.014120735935967245,\n",
       "  0.012723815798096741,\n",
       "  0.012641877636333522,\n",
       "  0.012031141241806537,\n",
       "  0.012054213661590034,\n",
       "  0.011904750767382328,\n",
       "  0.011119261810761899,\n",
       "  0.010721788234566904,\n",
       "  0.010940017279066808,\n",
       "  0.01043524399570458,\n",
       "  0.00998964418739964,\n",
       "  0.009858315710149043],\n",
       " 'val_loss': [0.038835948759532835,\n",
       "  0.029695100947675936,\n",
       "  0.019121191318494726,\n",
       "  0.016122799748218203,\n",
       "  0.01617512609585222,\n",
       "  0.013736446500273353,\n",
       "  0.01338864186307393,\n",
       "  0.012310369669583189,\n",
       "  0.01127491358398314,\n",
       "  0.01123805017580828,\n",
       "  0.010437756731926677,\n",
       "  0.010031653815005198,\n",
       "  0.01015368126422526,\n",
       "  0.009791029235684728,\n",
       "  0.009127037341605467,\n",
       "  0.009676862317305732,\n",
       "  0.0088233905451664,\n",
       "  0.00912558132535722,\n",
       "  0.008135172796536642,\n",
       "  0.008086085891777492]}"
      ]
     },
     "execution_count": 189,
     "metadata": {},
     "output_type": "execute_result"
    }
   ],
   "source": [
    "history.history"
   ]
  },
  {
   "cell_type": "code",
   "execution_count": 190,
   "metadata": {},
   "outputs": [],
   "source": [
    "# from tensorflow import keras\n",
    "# regressor = Sequential()\n",
    "# regressor = keras.models.load_model(\"LSTM_model_1210.h5\")"
   ]
  },
  {
   "cell_type": "code",
   "execution_count": 123,
   "metadata": {},
   "outputs": [
    {
     "data": {
      "text/html": [
       "<div>\n",
       "<style scoped>\n",
       "    .dataframe tbody tr th:only-of-type {\n",
       "        vertical-align: middle;\n",
       "    }\n",
       "\n",
       "    .dataframe tbody tr th {\n",
       "        vertical-align: top;\n",
       "    }\n",
       "\n",
       "    .dataframe thead th {\n",
       "        text-align: right;\n",
       "    }\n",
       "</style>\n",
       "<table border=\"1\" class=\"dataframe\">\n",
       "  <thead>\n",
       "    <tr style=\"text-align: right;\">\n",
       "      <th></th>\n",
       "      <th>close</th>\n",
       "      <th>open</th>\n",
       "      <th>high</th>\n",
       "      <th>low</th>\n",
       "      <th>Volume BTC</th>\n",
       "      <th>NewDateTime</th>\n",
       "      <th>returns</th>\n",
       "      <th>log_returns</th>\n",
       "      <th>SOPR</th>\n",
       "      <th>fundingRate</th>\n",
       "      <th>googleTrend</th>\n",
       "    </tr>\n",
       "  </thead>\n",
       "  <tbody>\n",
       "    <tr>\n",
       "      <th>0</th>\n",
       "      <td>50399.83</td>\n",
       "      <td>50471.19</td>\n",
       "      <td>50797.76</td>\n",
       "      <td>50323.83</td>\n",
       "      <td>1165.14158</td>\n",
       "      <td>2021-12-09 00:00:00</td>\n",
       "      <td>0.998586</td>\n",
       "      <td>-0.001415</td>\n",
       "      <td>0.996332</td>\n",
       "      <td>0.01</td>\n",
       "      <td>19</td>\n",
       "    </tr>\n",
       "    <tr>\n",
       "      <th>1</th>\n",
       "      <td>50182.70</td>\n",
       "      <td>50399.84</td>\n",
       "      <td>50483.68</td>\n",
       "      <td>50147.89</td>\n",
       "      <td>871.61111</td>\n",
       "      <td>2021-12-09 01:00:00</td>\n",
       "      <td>0.995692</td>\n",
       "      <td>-0.004317</td>\n",
       "      <td>0.996332</td>\n",
       "      <td>0.01</td>\n",
       "      <td>19</td>\n",
       "    </tr>\n",
       "    <tr>\n",
       "      <th>2</th>\n",
       "      <td>49886.02</td>\n",
       "      <td>50182.71</td>\n",
       "      <td>50276.81</td>\n",
       "      <td>49620.62</td>\n",
       "      <td>1628.84987</td>\n",
       "      <td>2021-12-09 02:00:00</td>\n",
       "      <td>0.994088</td>\n",
       "      <td>-0.005930</td>\n",
       "      <td>0.996332</td>\n",
       "      <td>0.01</td>\n",
       "      <td>21</td>\n",
       "    </tr>\n",
       "    <tr>\n",
       "      <th>3</th>\n",
       "      <td>49513.35</td>\n",
       "      <td>49886.02</td>\n",
       "      <td>49934.12</td>\n",
       "      <td>49425.74</td>\n",
       "      <td>951.66432</td>\n",
       "      <td>2021-12-09 03:00:00</td>\n",
       "      <td>0.992530</td>\n",
       "      <td>-0.007498</td>\n",
       "      <td>0.996332</td>\n",
       "      <td>0.01</td>\n",
       "      <td>22</td>\n",
       "    </tr>\n",
       "    <tr>\n",
       "      <th>4</th>\n",
       "      <td>49816.07</td>\n",
       "      <td>49517.00</td>\n",
       "      <td>49821.01</td>\n",
       "      <td>49420.33</td>\n",
       "      <td>1052.17101</td>\n",
       "      <td>2021-12-09 04:00:00</td>\n",
       "      <td>1.006114</td>\n",
       "      <td>0.006095</td>\n",
       "      <td>0.996332</td>\n",
       "      <td>0.01</td>\n",
       "      <td>22</td>\n",
       "    </tr>\n",
       "    <tr>\n",
       "      <th>...</th>\n",
       "      <td>...</td>\n",
       "      <td>...</td>\n",
       "      <td>...</td>\n",
       "      <td>...</td>\n",
       "      <td>...</td>\n",
       "      <td>...</td>\n",
       "      <td>...</td>\n",
       "      <td>...</td>\n",
       "      <td>...</td>\n",
       "      <td>...</td>\n",
       "      <td>...</td>\n",
       "    </tr>\n",
       "    <tr>\n",
       "      <th>331</th>\n",
       "      <td>48931.99</td>\n",
       "      <td>48576.02</td>\n",
       "      <td>48950.00</td>\n",
       "      <td>48506.01</td>\n",
       "      <td>799.48215</td>\n",
       "      <td>2021-12-22 19:00:00</td>\n",
       "      <td>1.007328</td>\n",
       "      <td>0.007301</td>\n",
       "      <td>1.001202</td>\n",
       "      <td>0.01</td>\n",
       "      <td>46</td>\n",
       "    </tr>\n",
       "    <tr>\n",
       "      <th>332</th>\n",
       "      <td>48974.34</td>\n",
       "      <td>48931.99</td>\n",
       "      <td>49144.99</td>\n",
       "      <td>48860.47</td>\n",
       "      <td>1309.98901</td>\n",
       "      <td>2021-12-22 20:00:00</td>\n",
       "      <td>1.000865</td>\n",
       "      <td>0.000865</td>\n",
       "      <td>1.001202</td>\n",
       "      <td>0.01</td>\n",
       "      <td>47</td>\n",
       "    </tr>\n",
       "    <tr>\n",
       "      <th>333</th>\n",
       "      <td>49048.84</td>\n",
       "      <td>48974.33</td>\n",
       "      <td>49139.97</td>\n",
       "      <td>48836.72</td>\n",
       "      <td>894.46650</td>\n",
       "      <td>2021-12-22 21:00:00</td>\n",
       "      <td>1.001521</td>\n",
       "      <td>0.001520</td>\n",
       "      <td>1.001202</td>\n",
       "      <td>0.01</td>\n",
       "      <td>47</td>\n",
       "    </tr>\n",
       "    <tr>\n",
       "      <th>334</th>\n",
       "      <td>48977.21</td>\n",
       "      <td>49048.83</td>\n",
       "      <td>49084.45</td>\n",
       "      <td>48788.49</td>\n",
       "      <td>710.47289</td>\n",
       "      <td>2021-12-22 22:00:00</td>\n",
       "      <td>0.998540</td>\n",
       "      <td>-0.001461</td>\n",
       "      <td>1.001202</td>\n",
       "      <td>0.01</td>\n",
       "      <td>46</td>\n",
       "    </tr>\n",
       "    <tr>\n",
       "      <th>335</th>\n",
       "      <td>48588.16</td>\n",
       "      <td>48977.21</td>\n",
       "      <td>48995.89</td>\n",
       "      <td>48555.00</td>\n",
       "      <td>1186.22529</td>\n",
       "      <td>2021-12-22 23:00:00</td>\n",
       "      <td>0.992057</td>\n",
       "      <td>-0.007975</td>\n",
       "      <td>1.001202</td>\n",
       "      <td>0.01</td>\n",
       "      <td>49</td>\n",
       "    </tr>\n",
       "  </tbody>\n",
       "</table>\n",
       "<p>336 rows × 11 columns</p>\n",
       "</div>"
      ],
      "text/plain": [
       "        close      open      high       low  Volume BTC          NewDateTime  \\\n",
       "0    50399.83  50471.19  50797.76  50323.83  1165.14158  2021-12-09 00:00:00   \n",
       "1    50182.70  50399.84  50483.68  50147.89   871.61111  2021-12-09 01:00:00   \n",
       "2    49886.02  50182.71  50276.81  49620.62  1628.84987  2021-12-09 02:00:00   \n",
       "3    49513.35  49886.02  49934.12  49425.74   951.66432  2021-12-09 03:00:00   \n",
       "4    49816.07  49517.00  49821.01  49420.33  1052.17101  2021-12-09 04:00:00   \n",
       "..        ...       ...       ...       ...         ...                  ...   \n",
       "331  48931.99  48576.02  48950.00  48506.01   799.48215  2021-12-22 19:00:00   \n",
       "332  48974.34  48931.99  49144.99  48860.47  1309.98901  2021-12-22 20:00:00   \n",
       "333  49048.84  48974.33  49139.97  48836.72   894.46650  2021-12-22 21:00:00   \n",
       "334  48977.21  49048.83  49084.45  48788.49   710.47289  2021-12-22 22:00:00   \n",
       "335  48588.16  48977.21  48995.89  48555.00  1186.22529  2021-12-22 23:00:00   \n",
       "\n",
       "      returns  log_returns      SOPR  fundingRate  googleTrend  \n",
       "0    0.998586    -0.001415  0.996332         0.01           19  \n",
       "1    0.995692    -0.004317  0.996332         0.01           19  \n",
       "2    0.994088    -0.005930  0.996332         0.01           21  \n",
       "3    0.992530    -0.007498  0.996332         0.01           22  \n",
       "4    1.006114     0.006095  0.996332         0.01           22  \n",
       "..        ...          ...       ...          ...          ...  \n",
       "331  1.007328     0.007301  1.001202         0.01           46  \n",
       "332  1.000865     0.000865  1.001202         0.01           47  \n",
       "333  1.001521     0.001520  1.001202         0.01           47  \n",
       "334  0.998540    -0.001461  1.001202         0.01           46  \n",
       "335  0.992057    -0.007975  1.001202         0.01           49  \n",
       "\n",
       "[336 rows x 11 columns]"
      ]
     },
     "execution_count": 123,
     "metadata": {},
     "output_type": "execute_result"
    }
   ],
   "source": [
    "past_weeks = data_training.tail(168)\n",
    "df= past_weeks.append(data_test, ignore_index = True)\n",
    "# test.drop(test.tail(len(test)%168).index,inplace=True)\n",
    "# test = test.drop(['NewDateTime'], axis=1)\n",
    "df"
   ]
  },
  {
   "cell_type": "code",
   "execution_count": 124,
   "metadata": {},
   "outputs": [
    {
     "data": {
      "text/plain": [
       "336"
      ]
     },
     "execution_count": 124,
     "metadata": {},
     "output_type": "execute_result"
    }
   ],
   "source": [
    "df = df.drop(['NewDateTime'], axis = 1)\n",
    "len(df)"
   ]
  },
  {
   "cell_type": "code",
   "execution_count": 125,
   "metadata": {},
   "outputs": [
    {
     "ename": "AttributeError",
     "evalue": "'MinMaxScaler' object has no attribute 'scale_'",
     "output_type": "error",
     "traceback": [
      "\u001b[0;31m---------------------------------------------------------------------------\u001b[0m",
      "\u001b[0;31mAttributeError\u001b[0m                            Traceback (most recent call last)",
      "\u001b[0;32m<ipython-input-125-c23492dd56fe>\u001b[0m in \u001b[0;36m<module>\u001b[0;34m\u001b[0m\n\u001b[0;32m----> 1\u001b[0;31m \u001b[0minputs\u001b[0m \u001b[0;34m=\u001b[0m \u001b[0mscaler\u001b[0m\u001b[0;34m.\u001b[0m\u001b[0mtransform\u001b[0m\u001b[0;34m(\u001b[0m\u001b[0mdf\u001b[0m\u001b[0;34m)\u001b[0m\u001b[0;34m\u001b[0m\u001b[0;34m\u001b[0m\u001b[0m\n\u001b[0m\u001b[1;32m      2\u001b[0m \u001b[0minputs\u001b[0m\u001b[0;34m\u001b[0m\u001b[0;34m\u001b[0m\u001b[0m\n",
      "\u001b[0;32m/usr/local/lib/python3.6/dist-packages/sklearn/preprocessing/_data.py\u001b[0m in \u001b[0;36mtransform\u001b[0;34m(self, X)\u001b[0m\n\u001b[1;32m    408\u001b[0m                         force_all_finite=\"allow-nan\")\n\u001b[1;32m    409\u001b[0m \u001b[0;34m\u001b[0m\u001b[0m\n\u001b[0;32m--> 410\u001b[0;31m         \u001b[0mX\u001b[0m \u001b[0;34m*=\u001b[0m \u001b[0mself\u001b[0m\u001b[0;34m.\u001b[0m\u001b[0mscale_\u001b[0m\u001b[0;34m\u001b[0m\u001b[0;34m\u001b[0m\u001b[0m\n\u001b[0m\u001b[1;32m    411\u001b[0m         \u001b[0mX\u001b[0m \u001b[0;34m+=\u001b[0m \u001b[0mself\u001b[0m\u001b[0;34m.\u001b[0m\u001b[0mmin_\u001b[0m\u001b[0;34m\u001b[0m\u001b[0;34m\u001b[0m\u001b[0m\n\u001b[1;32m    412\u001b[0m         \u001b[0;32mreturn\u001b[0m \u001b[0mX\u001b[0m\u001b[0;34m\u001b[0m\u001b[0;34m\u001b[0m\u001b[0m\n",
      "\u001b[0;31mAttributeError\u001b[0m: 'MinMaxScaler' object has no attribute 'scale_'"
     ]
    }
   ],
   "source": [
    "inputs = scaler.transform(df)\n",
    "inputs"
   ]
  },
  {
   "cell_type": "code",
   "execution_count": 126,
   "metadata": {},
   "outputs": [
    {
     "data": {
      "text/plain": [
       "(336, 1)"
      ]
     },
     "execution_count": 126,
     "metadata": {},
     "output_type": "execute_result"
    }
   ],
   "source": [
    "df2 =df['close'].copy()\n",
    "pScaler = MinMaxScaler()\n",
    "pData = pScaler.fit_transform(df2.values.reshape(-1, 1))\n",
    "pData.shape"
   ]
  },
  {
   "cell_type": "code",
   "execution_count": 127,
   "metadata": {},
   "outputs": [],
   "source": [
    "X_test = []\n",
    "Y_test = []\n",
    "for i in range(336, inputs.shape[0]+1,24):\n",
    "    X_test.append(inputs[i-336:i-168])\n",
    "    Y_test.append(inputs[i-168:i,0])"
   ]
  },
  {
   "cell_type": "code",
   "execution_count": 128,
   "metadata": {},
   "outputs": [
    {
     "data": {
      "text/plain": [
       "((1, 168, 10), (1, 168))"
      ]
     },
     "execution_count": 128,
     "metadata": {},
     "output_type": "execute_result"
    }
   ],
   "source": [
    "X_test, Y_test = np.array(X_test), np.array(Y_test)\n",
    "X_test.shape, Y_test.shape"
   ]
  },
  {
   "cell_type": "code",
   "execution_count": 129,
   "metadata": {},
   "outputs": [
    {
     "data": {
      "text/plain": [
       "array([[48079.07968364],\n",
       "       [48075.97506946],\n",
       "       [48073.79183253],\n",
       "       [48050.66343323],\n",
       "       [48041.33616667],\n",
       "       [48013.35680772],\n",
       "       [48059.82228912],\n",
       "       [48037.56035053],\n",
       "       [48044.0478226 ],\n",
       "       [48066.44034048],\n",
       "       [48090.69879981],\n",
       "       [48098.03686783],\n",
       "       [48034.78035403],\n",
       "       [48073.50748697],\n",
       "       [48016.13436348],\n",
       "       [48022.1324683 ],\n",
       "       [48012.46349892],\n",
       "       [47960.91030664],\n",
       "       [47948.62853107],\n",
       "       [47934.29043676],\n",
       "       [47942.04220926],\n",
       "       [47961.5778475 ],\n",
       "       [47928.83051388],\n",
       "       [47905.77899771],\n",
       "       [47924.98269607],\n",
       "       [47932.13282754],\n",
       "       [47927.4563804 ],\n",
       "       [47922.09408689],\n",
       "       [47940.027383  ],\n",
       "       [47914.37404394],\n",
       "       [47879.85473713],\n",
       "       [47829.49018251],\n",
       "       [47845.24512315],\n",
       "       [47856.54450312],\n",
       "       [47823.10888239],\n",
       "       [47842.32600479],\n",
       "       [47833.41732418],\n",
       "       [47822.50724135],\n",
       "       [47703.03085108],\n",
       "       [47771.10537461],\n",
       "       [47838.0388548 ],\n",
       "       [47799.52528612],\n",
       "       [47827.29718264],\n",
       "       [47800.00733116],\n",
       "       [47729.01368928],\n",
       "       [47810.65503504],\n",
       "       [47774.35033101],\n",
       "       [47722.57991336],\n",
       "       [47744.99439785],\n",
       "       [47665.21167134],\n",
       "       [47669.49760097],\n",
       "       [47741.1111894 ],\n",
       "       [47754.88303333],\n",
       "       [47778.8498249 ],\n",
       "       [47747.13126083],\n",
       "       [47750.99982487],\n",
       "       [47747.53520237],\n",
       "       [47809.27846083],\n",
       "       [47866.38432391],\n",
       "       [47837.20168289],\n",
       "       [47832.93771987],\n",
       "       [47784.5770082 ],\n",
       "       [47829.70618751],\n",
       "       [47811.34332215],\n",
       "       [47804.19074995],\n",
       "       [47787.73897963],\n",
       "       [47795.21250841],\n",
       "       [47785.12129198],\n",
       "       [47812.07676284],\n",
       "       [47822.30588077],\n",
       "       [47801.00559154],\n",
       "       [47808.40589828],\n",
       "       [47787.64257062],\n",
       "       [47777.25480496],\n",
       "       [47846.91214476],\n",
       "       [47915.54193536],\n",
       "       [47937.55125794],\n",
       "       [47901.82744869],\n",
       "       [47887.71024084],\n",
       "       [47891.46531074],\n",
       "       [47886.33610737],\n",
       "       [47841.05560253],\n",
       "       [47843.86122674],\n",
       "       [47847.24286427],\n",
       "       [47859.92492028],\n",
       "       [47905.48244848],\n",
       "       [47876.59025486],\n",
       "       [47857.8698219 ],\n",
       "       [47848.38024651],\n",
       "       [47845.83944198],\n",
       "       [47843.44142042],\n",
       "       [47788.81290278],\n",
       "       [47801.31678518],\n",
       "       [47795.69821456],\n",
       "       [47864.80882984],\n",
       "       [47789.70377084],\n",
       "       [47814.06230028],\n",
       "       [47782.17776627],\n",
       "       [47795.88004927],\n",
       "       [47790.43477079],\n",
       "       [47824.63678213],\n",
       "       [47759.43256227],\n",
       "       [47774.58220078],\n",
       "       [47758.94563576],\n",
       "       [47741.13437638],\n",
       "       [47686.96959827],\n",
       "       [47692.2342624 ],\n",
       "       [47717.86929595],\n",
       "       [47672.58390964],\n",
       "       [47671.65887129],\n",
       "       [47744.09376685],\n",
       "       [47703.40550381],\n",
       "       [47756.89785959],\n",
       "       [47720.79939761],\n",
       "       [47739.34531805],\n",
       "       [47778.0272974 ],\n",
       "       [47831.17062816],\n",
       "       [47823.87405263],\n",
       "       [47799.0346985 ],\n",
       "       [47818.12978418],\n",
       "       [47803.37188355],\n",
       "       [47822.10329981],\n",
       "       [47821.59318632],\n",
       "       [47941.91285033],\n",
       "       [48018.3737373 ],\n",
       "       [48023.9264081 ],\n",
       "       [48017.38157877],\n",
       "       [48021.39536651],\n",
       "       [48019.76861702],\n",
       "       [48022.85370532],\n",
       "       [48030.92399366],\n",
       "       [48056.43821085],\n",
       "       [48040.39892465],\n",
       "       [48061.63331405],\n",
       "       [48026.79427103],\n",
       "       [48001.7132842 ],\n",
       "       [48034.2604776 ],\n",
       "       [48030.59693525],\n",
       "       [48004.52256951],\n",
       "       [48026.27927607],\n",
       "       [48024.95639802],\n",
       "       [48082.96045136],\n",
       "       [48107.81567026],\n",
       "       [48059.24017396],\n",
       "       [48029.24964985],\n",
       "       [48050.57678716],\n",
       "       [48112.52384694],\n",
       "       [48103.06600109],\n",
       "       [48110.80312918],\n",
       "       [48068.39292801],\n",
       "       [48079.66057843],\n",
       "       [48097.86967752],\n",
       "       [48104.16555194],\n",
       "       [48065.52140397],\n",
       "       [48082.95068842],\n",
       "       [48070.4809763 ],\n",
       "       [48021.2245151 ],\n",
       "       [48018.98270054],\n",
       "       [48048.88779894],\n",
       "       [48057.94658472],\n",
       "       [48072.4347842 ],\n",
       "       [48036.32045745],\n",
       "       [48020.93772881],\n",
       "       [48064.37914027],\n",
       "       [48069.54739539],\n",
       "       [48078.63913108],\n",
       "       [48069.89764077],\n",
       "       [48022.4192546 ]])"
      ]
     },
     "execution_count": 129,
     "metadata": {},
     "output_type": "execute_result"
    }
   ],
   "source": [
    "Y_test=pScaler.inverse_transform(Y_test.reshape(168,1))"
   ]
  },
  {
   "cell_type": "code",
   "execution_count": 130,
   "metadata": {},
   "outputs": [],
   "source": [
    "Y_pred = model.predict(X_test)\n",
    "Y_pred=pScaler.inverse_transform(Y_pred.reshape(168,1))\n"
   ]
  },
  {
   "cell_type": "code",
   "execution_count": 131,
   "metadata": {},
   "outputs": [
    {
     "data": {
      "text/plain": [
       "(168, 1)"
      ]
     },
     "execution_count": 131,
     "metadata": {},
     "output_type": "execute_result"
    }
   ],
   "source": [
    "Y_pred.shape"
   ]
  },
  {
   "cell_type": "code",
   "execution_count": 132,
   "metadata": {},
   "outputs": [
    {
     "data": {
      "image/png": "[encoded data removed]",
      "text/plain": [
       "<Figure size 1008x360 with 1 Axes>"
      ]
     },
     "metadata": {
      "needs_background": "light"
     },
     "output_type": "display_data"
    }
   ],
   "source": [
    "plt.figure(figsize=(14,5))\n",
    "plt.plot(Y_test[0:,0], color = 'red', label = 'Real Bitcoin Price')\n",
    "plt.plot(Y_pred[0:,0], color = 'green', label = 'Predicted Bitcoin Price')\n",
    "plt.title('Bitcoin Price Prediction using RNN-LSTM')\n",
    "plt.xlabel('Time')\n",
    "plt.ylabel('Price')\n",
    "plt.legend()\n",
    "plt.show()"
   ]
  },
  {
   "cell_type": "code",
   "execution_count": null,
   "metadata": {},
   "outputs": [],
   "source": []
  }
 ],
 "metadata": {
  "kernelspec": {
   "display_name": "Python 3",
   "language": "python",
   "name": "python3"
  },
  "language_info": {
   "codemirror_mode": {
    "name": "ipython",
    "version": 3
   },
   "file_extension": ".py",
   "mimetype": "text/x-python",
   "name": "python",
   "nbconvert_exporter": "python",
   "pygments_lexer": "ipython3",
   "version": "3.6.9"
  }
 },
 "nbformat": 4,
 "nbformat_minor": 4
}
